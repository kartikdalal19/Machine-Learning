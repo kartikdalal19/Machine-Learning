This is a Project based on Regression , to create a model that predicts the time duration of a taxi in New York.
This is a type o Supervised learning.
